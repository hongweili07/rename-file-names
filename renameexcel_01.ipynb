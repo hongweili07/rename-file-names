{
 "cells": [
  {
   "cell_type": "code",
   "execution_count": 1,
   "id": "3dc1cc4c-2607-4b67-acdb-c1d4427bf60a",
   "metadata": {},
   "outputs": [],
   "source": [
    "import os"
   ]
  },
  {
   "cell_type": "code",
   "execution_count": 3,
   "id": "9b17afb4-84f5-4bdc-8363-622396830f09",
   "metadata": {},
   "outputs": [
    {
     "name": "stdin",
     "output_type": "stream",
     "text": [
      "input path:  C:\\1000_product\\3000_项目进度更新\\00_项目进度更新_2023\\项目进度更新_2307\\230719\n"
     ]
    },
    {
     "name": "stdout",
     "output_type": "stream",
     "text": [
      "C:\\1000_product\\3000_项目进度更新\\00_项目进度更新_2023\\项目进度更新_2307\\230719\\项目计划_会议纪要_xg233_230719.xlsx\n",
      "C:\\1000_product\\3000_项目进度更新\\00_项目进度更新_2023\\项目进度更新_2307\\230719\\项目计划_会议纪要_xg234_230719.xlsx\n",
      "C:\\1000_product\\3000_项目进度更新\\00_项目进度更新_2023\\项目进度更新_2307\\230719\\项目计划_会议纪要_xg237_230719.xlsx\n",
      "C:\\1000_product\\3000_项目进度更新\\00_项目进度更新_2023\\项目进度更新_2307\\230719\\项目计划_会议纪要_xg2531_230719.xlsx\n",
      "C:\\1000_product\\3000_项目进度更新\\00_项目进度更新_2023\\项目进度更新_2307\\230719\\项目计划_会议纪要_xg254LC_230719.xlsx\n",
      "C:\\1000_product\\3000_项目进度更新\\00_项目进度更新_2023\\项目进度更新_2307\\230719\\项目计划_会议纪要_xg260_230719.xlsx\n",
      "C:\\1000_product\\3000_项目进度更新\\00_项目进度更新_2023\\项目进度更新_2307\\230719\\项目计划_会议纪要_xg261_230719.xlsx\n",
      "C:\\1000_product\\3000_项目进度更新\\00_项目进度更新_2023\\项目进度更新_2307\\230719\\项目计划_会议纪要_xg263_230719.xlsx\n",
      "C:\\1000_product\\3000_项目进度更新\\00_项目进度更新_2023\\项目进度更新_2307\\230719\\项目计划_会议纪要_xg264_230719.xlsx\n",
      "C:\\1000_product\\3000_项目进度更新\\00_项目进度更新_2023\\项目进度更新_2307\\230719\\项目计划_会议纪要_xg285_230719.xlsx\n",
      "C:\\1000_product\\3000_项目进度更新\\00_项目进度更新_2023\\项目进度更新_2307\\230719\\项目计划_会议纪要_xg631_230719.xlsx\n",
      "C:\\1000_product\\3000_项目进度更新\\00_项目进度更新_2023\\项目进度更新_2307\\230719\\项目计划_会议纪要_xg931_230719.xlsx\n"
     ]
    }
   ],
   "source": [
    "path = input('input path: ')\n",
    "files = os.listdir(path)\n",
    "for file in files:\n",
    "    filename = file.replace(\"0712\", \"0719\")\n",
    "    new_name = path + os.sep + filename\n",
    "    old_name = path + os.sep + file\n",
    "    os.rename(old_name, new_name)\n",
    "    print(new_name)"
   ]
  }
 ],
 "metadata": {
  "kernelspec": {
   "display_name": "Python 3 (ipykernel)",
   "language": "python",
   "name": "python3"
  },
  "language_info": {
   "codemirror_mode": {
    "name": "ipython",
    "version": 3
   },
   "file_extension": ".py",
   "mimetype": "text/x-python",
   "name": "python",
   "nbconvert_exporter": "python",
   "pygments_lexer": "ipython3",
   "version": "3.11.4"
  }
 },
 "nbformat": 4,
 "nbformat_minor": 5
}
